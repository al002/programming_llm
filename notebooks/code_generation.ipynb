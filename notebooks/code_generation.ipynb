{
 "cells": [
  {
   "cell_type": "markdown",
   "id": "98b8d936-dbb3-4eb8-b7f0-574b0dd2117e",
   "metadata": {},
   "source": [
    "## ChatGPT frontend code generation"
   ]
  },
  {
   "cell_type": "code",
   "execution_count": 174,
   "id": "6327a39d-81f0-4de3-b5be-a76924790e03",
   "metadata": {
    "tags": []
   },
   "outputs": [],
   "source": [
    "%%capture\n",
    "# update or install the necessary libraries\n",
    "!pip install --upgrade openai\n",
    "!pip install --upgrade langchain"
   ]
  },
  {
   "cell_type": "markdown",
   "id": "de288346-9ec8-48a9-af7c-f50ca31212bf",
   "metadata": {},
   "source": [
    "Install these libraries before getting started. "
   ]
  },
  {
   "cell_type": "code",
   "execution_count": 175,
   "id": "f6dd473e-593e-4aa4-b07f-2af0f26f288e",
   "metadata": {
    "tags": []
   },
   "outputs": [],
   "source": [
    "from langchain import LLMChain, PromptTemplate\n",
    "from langchain.chat_models import ChatOpenAI"
   ]
  },
  {
   "cell_type": "code",
   "execution_count": 182,
   "id": "fffcb6a7-0881-4c5a-a05c-36a6e2813a0c",
   "metadata": {
    "tags": []
   },
   "outputs": [],
   "source": [
    "template = \"\"\"\n",
    "I want you to act as a {role}. I will describe a project details you will code project with thouse tools: {tech_stacks}. You should output different filename and content for its functionality. Do not write explanations and give optimized code. My frist request is \"{query}\".\n",
    "\"\"\""
   ]
  },
  {
   "cell_type": "code",
   "execution_count": 183,
   "id": "b21c66b1-152a-43f9-807f-d7491ab744d9",
   "metadata": {
    "tags": []
   },
   "outputs": [],
   "source": [
    "prompt = PromptTemplate.from_template(template)"
   ]
  },
  {
   "cell_type": "code",
   "execution_count": 184,
   "id": "cdbbf4f4-5454-44d6-9ba8-8d8193546eb9",
   "metadata": {
    "tags": []
   },
   "outputs": [],
   "source": [
    "ROLE = \"Senior Frontend developer\"\n",
    "TECHS = \"React, pnpm, Ant Design, Redux Toolkit, axios\"\n",
    "QUERY = \"Create Pokemon App that lists pokemons with images that come from PokeAPI sprites endpoint\""
   ]
  },
  {
   "cell_type": "code",
   "execution_count": 185,
   "id": "5522b26d-afc8-4bcf-9587-96cd03329d6f",
   "metadata": {
    "tags": []
   },
   "outputs": [],
   "source": [
    "# chat mode instance\n",
    "chat = ChatOpenAI(temperature=0.7)"
   ]
  },
  {
   "cell_type": "code",
   "execution_count": 186,
   "id": "dfdf5f94-a176-40c4-ae19-627b55b13115",
   "metadata": {
    "tags": []
   },
   "outputs": [],
   "source": [
    "chatgpt_chain = LLMChain(\n",
    "    llm=chat, \n",
    "    prompt=prompt, \n",
    "    verbose=True, \n",
    ")"
   ]
  },
  {
   "cell_type": "code",
   "execution_count": 187,
   "id": "ddc2b534-e416-4f34-a3e7-ab3e373d8844",
   "metadata": {
    "tags": []
   },
   "outputs": [
    {
     "name": "stdout",
     "output_type": "stream",
     "text": [
      "\n",
      "\n",
      "\u001b[1m> Entering new LLMChain chain...\u001b[0m\n",
      "Prompt after formatting:\n",
      "\u001b[32;1m\u001b[1;3m\n",
      "I want you to act as a Senior Frontend developer. I will describe a project details you will code project with thouse tools: React, pnpm, Ant Design, Redux Toolkit, axios. You should output different filename and content for its functionality. Do not write explanations and give optimized code. My frist request is \"Create Pokemon App that lists pokemons with images that come from PokeAPI sprites endpoint\".\n",
      "\u001b[0m\n",
      "\n",
      "\u001b[1m> Finished chain.\u001b[0m\n",
      "\n",
      "\n",
      "Sure, as a Senior Frontend developer, I can create a Pokemon App that lists pokemons with images that come from PokeAPI sprites endpoint using React, pnpm, Ant Design, Redux Toolkit, and axios.\n",
      "\n",
      "Here is the optimized code for the project:\n",
      "\n",
      "index.js file:\n",
      "\n",
      "```javascript\n",
      "import React from 'react';\n",
      "import ReactDOM from 'react-dom';\n",
      "import { Provider } from 'react-redux';\n",
      "import store from './store';\n",
      "import App from './App';\n",
      "\n",
      "ReactDOM.render(\n",
      "  <Provider store={store}>\n",
      "    <App />\n",
      "  </Provider>,\n",
      "  document.getElementById('root')\n",
      ");\n",
      "```\n",
      "\n",
      "App.js file:\n",
      "\n",
      "```javascript\n",
      "import React, { useEffect } from 'react';\n",
      "import { useDispatch, useSelector } from 'react-redux';\n",
      "import { Card, Col, Row } from 'antd';\n",
      "import { fetchPokemons } from './actions';\n",
      "\n",
      "const { Meta } = Card;\n",
      "\n",
      "const App = () => {\n",
      "  const dispatch = useDispatch();\n",
      "  const pokemons = useSelector(state => state.pokemons);\n",
      "\n",
      "  useEffect(() => {\n",
      "    dispatch(fetchPokemons());\n",
      "  }, [dispatch]);\n",
      "\n",
      "  return (\n",
      "    <div className=\"site-card-wrapper\">\n",
      "      <Row gutter={[16, 16]}>\n",
      "        {pokemons.map(pokemon => (\n",
      "          <Col key={\n"
     ]
    }
   ],
   "source": [
    "output = chatgpt_chain.predict(role=ROLE, tech_stacks=TECHS, query=QUERY)\n",
    "print(output)"
   ]
  },
  {
   "cell_type": "code",
   "execution_count": null,
   "id": "73bff8a2-7713-45a9-9e3a-087424a149d6",
   "metadata": {},
   "outputs": [],
   "source": []
  }
 ],
 "metadata": {
  "kernelspec": {
   "display_name": "Python 3 (ipykernel)",
   "language": "python",
   "name": "python3"
  },
  "language_info": {
   "codemirror_mode": {
    "name": "ipython",
    "version": 3
   },
   "file_extension": ".py",
   "mimetype": "text/x-python",
   "name": "python",
   "nbconvert_exporter": "python",
   "pygments_lexer": "ipython3",
   "version": "3.11.1"
  }
 },
 "nbformat": 4,
 "nbformat_minor": 5
}
