{
 "cells": [
  {
   "cell_type": "markdown",
   "id": "98b8d936-dbb3-4eb8-b7f0-574b0dd2117e",
   "metadata": {},
   "source": [
    "## ChatGPT frontend code generation"
   ]
  },
  {
   "cell_type": "code",
   "execution_count": 174,
   "id": "6327a39d-81f0-4de3-b5be-a76924790e03",
   "metadata": {
    "tags": []
   },
   "outputs": [],
   "source": [
    "%%capture\n",
    "# update or install the necessary libraries\n",
    "!pip install --upgrade openai\n",
    "!pip install --upgrade langchain"
   ]
  },
  {
   "cell_type": "markdown",
   "id": "de288346-9ec8-48a9-af7c-f50ca31212bf",
   "metadata": {},
   "source": [
    "Install these libraries before getting started. "
   ]
  },
  {
   "cell_type": "code",
   "execution_count": 188,
   "id": "f6dd473e-593e-4aa4-b07f-2af0f26f288e",
   "metadata": {
    "tags": []
   },
   "outputs": [],
   "source": [
    "from langchain import LLMChain, PromptTemplate\n",
    "from langchain.chat_models import ChatOpenAI\n",
    "from langchain.callbacks.base import CallbackManager\n",
    "from langchain.callbacks.streaming_stdout import StreamingStdOutCallbackHandler"
   ]
  },
  {
   "cell_type": "code",
   "execution_count": 189,
   "id": "fffcb6a7-0881-4c5a-a05c-36a6e2813a0c",
   "metadata": {
    "tags": []
   },
   "outputs": [],
   "source": [
    "template = \"\"\"\n",
    "I want you to act as a {role}. I will describe a project details you will code project with thouse tools: {tech_stacks}. You should output different filename and content for its functionality. Do not write explanations and give optimized code. My frist request is \"{query}\".\n",
    "\"\"\""
   ]
  },
  {
   "cell_type": "code",
   "execution_count": 190,
   "id": "b21c66b1-152a-43f9-807f-d7491ab744d9",
   "metadata": {
    "tags": []
   },
   "outputs": [],
   "source": [
    "prompt = PromptTemplate.from_template(template)"
   ]
  },
  {
   "cell_type": "code",
   "execution_count": 191,
   "id": "cdbbf4f4-5454-44d6-9ba8-8d8193546eb9",
   "metadata": {
    "tags": []
   },
   "outputs": [],
   "source": [
    "ROLE = \"Senior Frontend developer\"\n",
    "TECHS = \"React, pnpm, Ant Design, Redux Toolkit, axios\"\n",
    "QUERY = \"Create Pokemon App that lists pokemons with images that come from PokeAPI sprites endpoint\""
   ]
  },
  {
   "cell_type": "code",
   "execution_count": 197,
   "id": "5522b26d-afc8-4bcf-9587-96cd03329d6f",
   "metadata": {
    "tags": []
   },
   "outputs": [],
   "source": [
    "# chat mode instance\n",
    "chat = ChatOpenAI(temperature=0, streaming=True, callback_manager=CallbackManager([StreamingStdOutCallbackHandler()]), verbose=True)"
   ]
  },
  {
   "cell_type": "code",
   "execution_count": 193,
   "id": "dfdf5f94-a176-40c4-ae19-627b55b13115",
   "metadata": {
    "tags": []
   },
   "outputs": [],
   "source": [
    "chatgpt_chain = LLMChain(\n",
    "    llm=chat, \n",
    "    prompt=prompt, \n",
    "    verbose=True, \n",
    ")"
   ]
  },
  {
   "cell_type": "code",
   "execution_count": 194,
   "id": "ddc2b534-e416-4f34-a3e7-ab3e373d8844",
   "metadata": {
    "tags": []
   },
   "outputs": [
    {
     "name": "stdout",
     "output_type": "stream",
     "text": [
      "\n",
      "\n",
      "\u001b[1m> Entering new LLMChain chain...\u001b[0m\n",
      "Prompt after formatting:\n",
      "\u001b[32;1m\u001b[1;3m\n",
      "I want you to act as a Senior Frontend developer. I will describe a project details you will code project with thouse tools: React, pnpm, Ant Design, Redux Toolkit, axios. You should output different filename and content for its functionality. Do not write explanations and give optimized code. My frist request is \"Create Pokemon App that lists pokemons with images that come from PokeAPI sprites endpoint\".\n",
      "\u001b[0m\n",
      "\n",
      "\n",
      "Sure, I can work on this project as a Senior Frontend developer. Here's the code for the Pokemon App that lists pokemons with images that come from PokeAPI sprites endpoint using React, pnpm, Ant Design, Redux Toolkit, and axios:\n",
      "\n",
      "1. Create a new React app using create-react-app:\n",
      "\n",
      "```\n",
      "npx create-react-app pokemon-app\n",
      "```\n",
      "\n",
      "2. Install the required dependencies:\n",
      "\n",
      "```\n",
      "pnpm install antd axios react-redux reduxjs/toolkit\n",
      "```\n",
      "\n",
      "3. Create a new file called `PokemonList.js` in the `src` folder:\n",
      "\n",
      "```jsx\n",
      "import React, { useEffect } from 'react';\n",
      "import { useSelector, useDispatch } from 'react-redux';\n",
      "import { List, Avatar } from 'antd';\n",
      "import { fetchPokemons } from './pokemonSlice';\n",
      "\n",
      "const PokemonList = () => {\n",
      "  const dispatch = useDispatch();\n",
      "  const { pokemons, status } = useSelector((state) => state.pokemon);\n",
      "\n",
      "  useEffect(() => {\n",
      "    dispatch(fetchPokemons());\n",
      "  }, [dispatch]);\n",
      "\n",
      "  return (\n",
      "    <List\n",
      "      itemLayout=\"horizontal\"\n",
      "      dataSource={pokemons}\n",
      "      loading={status === 'loading'}\n",
      "      renderItem={(pokemon) => (\n",
      "        <List.Item>\n",
      "          <List.Item.Meta\n",
      "\u001b[1m> Finished chain.\u001b[0m\n",
      "\n",
      "\n",
      "Sure, I can work on this project as a Senior Frontend developer. Here's the code for the Pokemon App that lists pokemons with images that come from PokeAPI sprites endpoint using React, pnpm, Ant Design, Redux Toolkit, and axios:\n",
      "\n",
      "1. Create a new React app using create-react-app:\n",
      "\n",
      "```\n",
      "npx create-react-app pokemon-app\n",
      "```\n",
      "\n",
      "2. Install the required dependencies:\n",
      "\n",
      "```\n",
      "pnpm install antd axios react-redux reduxjs/toolkit\n",
      "```\n",
      "\n",
      "3. Create a new file called `PokemonList.js` in the `src` folder:\n",
      "\n",
      "```jsx\n",
      "import React, { useEffect } from 'react';\n",
      "import { useSelector, useDispatch } from 'react-redux';\n",
      "import { List, Avatar } from 'antd';\n",
      "import { fetchPokemons } from './pokemonSlice';\n",
      "\n",
      "const PokemonList = () => {\n",
      "  const dispatch = useDispatch();\n",
      "  const { pokemons, status } = useSelector((state) => state.pokemon);\n",
      "\n",
      "  useEffect(() => {\n",
      "    dispatch(fetchPokemons());\n",
      "  }, [dispatch]);\n",
      "\n",
      "  return (\n",
      "    <List\n",
      "      itemLayout=\"horizontal\"\n",
      "      dataSource={pokemons}\n",
      "      loading={status === 'loading'}\n",
      "      renderItem={(pokemon) => (\n",
      "        <List.Item>\n",
      "          <List.Item.Meta\n"
     ]
    }
   ],
   "source": [
    "output = chatgpt_chain.predict(role=ROLE, tech_stacks=TECHS, query=QUERY)\n",
    "print(output)"
   ]
  },
  {
   "cell_type": "code",
   "execution_count": null,
   "id": "73bff8a2-7713-45a9-9e3a-087424a149d6",
   "metadata": {},
   "outputs": [],
   "source": []
  }
 ],
 "metadata": {
  "kernelspec": {
   "display_name": "Python 3 (ipykernel)",
   "language": "python",
   "name": "python3"
  },
  "language_info": {
   "codemirror_mode": {
    "name": "ipython",
    "version": 3
   },
   "file_extension": ".py",
   "mimetype": "text/x-python",
   "name": "python",
   "nbconvert_exporter": "python",
   "pygments_lexer": "ipython3",
   "version": "3.11.1"
  }
 },
 "nbformat": 4,
 "nbformat_minor": 5
}
